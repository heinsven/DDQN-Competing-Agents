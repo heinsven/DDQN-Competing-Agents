{
 "cells": [
  {
   "cell_type": "markdown",
   "metadata": {},
   "source": [
    "# Collaboration and Competition\n",
    "\n",
    "---\n",
    "\n",
    "In this notebook, you will learn how to use the Unity ML-Agents environment for the third project of the [Deep Reinforcement Learning Nanodegree](https://www.udacity.com/course/deep-reinforcement-learning-nanodegree--nd893) program.\n",
    "\n",
    "### 1. Start the Environment\n",
    "\n",
    "We begin by importing the necessary packages.  If the code cell below returns an error, please revisit the project instructions to double-check that you have installed [Unity ML-Agents](https://github.com/Unity-Technologies/ml-agents/blob/master/docs/Installation.md) and [NumPy](http://www.numpy.org/)."
   ]
  },
  {
   "cell_type": "code",
   "execution_count": 1,
   "metadata": {},
   "outputs": [],
   "source": [
    "from unityagents import UnityEnvironment\n",
    "import numpy as np"
   ]
  },
  {
   "cell_type": "markdown",
   "metadata": {},
   "source": [
    "Next, we will start the environment!  **_Before running the code cell below_**, change the `file_name` parameter to match the location of the Unity environment that you downloaded.\n",
    "\n",
    "- **Mac**: `\"path/to/Tennis.app\"`\n",
    "- **Windows** (x86): `\"path/to/Tennis_Windows_x86/Tennis.exe\"`\n",
    "- **Windows** (x86_64): `\"path/to/Tennis_Windows_x86_64/Tennis.exe\"`\n",
    "- **Linux** (x86): `\"path/to/Tennis_Linux/Tennis.x86\"`\n",
    "- **Linux** (x86_64): `\"path/to/Tennis_Linux/Tennis.x86_64\"`\n",
    "- **Linux** (x86, headless): `\"path/to/Tennis_Linux_NoVis/Tennis.x86\"`\n",
    "- **Linux** (x86_64, headless): `\"path/to/Tennis_Linux_NoVis/Tennis.x86_64\"`\n",
    "\n",
    "For instance, if you are using a Mac, then you downloaded `Tennis.app`.  If this file is in the same folder as the notebook, then the line below should appear as follows:\n",
    "```\n",
    "env = UnityEnvironment(file_name=\"Tennis.app\")\n",
    "```"
   ]
  },
  {
   "cell_type": "code",
   "execution_count": 2,
   "metadata": {},
   "outputs": [
    {
     "name": "stderr",
     "output_type": "stream",
     "text": [
      "INFO:unityagents:\n",
      "'Academy' started successfully!\n",
      "Unity Academy name: Academy\n",
      "        Number of Brains: 1\n",
      "        Number of External Brains : 1\n",
      "        Lesson number : 0\n",
      "        Reset Parameters :\n",
      "\t\t\n",
      "Unity brain name: TennisBrain\n",
      "        Number of Visual Observations (per agent): 0\n",
      "        Vector Observation space type: continuous\n",
      "        Vector Observation space size (per agent): 8\n",
      "        Number of stacked Vector Observation: 3\n",
      "        Vector Action space type: continuous\n",
      "        Vector Action space size (per agent): 2\n",
      "        Vector Action descriptions: , \n"
     ]
    }
   ],
   "source": [
    "env = UnityEnvironment(file_name=\"Tennis_Windows_x86_64/Tennis.exe\")"
   ]
  },
  {
   "cell_type": "markdown",
   "metadata": {},
   "source": [
    "Environments contain **_brains_** which are responsible for deciding the actions of their associated agents. Here we check for the first brain available, and set it as the default brain we will be controlling from Python."
   ]
  },
  {
   "cell_type": "code",
   "execution_count": 3,
   "metadata": {},
   "outputs": [],
   "source": [
    "# get the default brain\n",
    "brain_name = env.brain_names[0]\n",
    "brain = env.brains[brain_name]"
   ]
  },
  {
   "cell_type": "markdown",
   "metadata": {},
   "source": [
    "### 2. Examine the State and Action Spaces\n",
    "\n",
    "In this environment, two agents control rackets to bounce a ball over a net. If an agent hits the ball over the net, it receives a reward of +0.1.  If an agent lets a ball hit the ground or hits the ball out of bounds, it receives a reward of -0.01.  Thus, the goal of each agent is to keep the ball in play.\n",
    "\n",
    "The observation space consists of 8 variables corresponding to the position and velocity of the ball and racket. Two continuous actions are available, corresponding to movement toward (or away from) the net, and jumping. \n",
    "\n",
    "Run the code cell below to print some information about the environment."
   ]
  },
  {
   "cell_type": "code",
   "execution_count": 4,
   "metadata": {},
   "outputs": [
    {
     "name": "stdout",
     "output_type": "stream",
     "text": [
      "Number of agents: 2\n",
      "Size of each action: 2\n",
      "There are 2 agents. Each observes a state with length: 24\n",
      "The state for the first agent looks like: [ 0.          0.          0.          0.          0.          0.\n",
      "  0.          0.          0.          0.          0.          0.\n",
      "  0.          0.          0.          0.         -6.65278625 -1.5\n",
      " -0.          0.          6.83172083  6.         -0.          0.        ]\n"
     ]
    }
   ],
   "source": [
    "# reset the environment\n",
    "env_info = env.reset(train_mode=True)[brain_name]\n",
    "\n",
    "# number of agents \n",
    "num_agents = len(env_info.agents)\n",
    "print('Number of agents:', num_agents)\n",
    "\n",
    "# size of each action\n",
    "action_size = brain.vector_action_space_size\n",
    "print('Size of each action:', action_size)\n",
    "\n",
    "# examine the state space \n",
    "states = env_info.vector_observations\n",
    "state_size = states.shape[1]\n",
    "print('There are {} agents. Each observes a state with length: {}'.format(states.shape[0], state_size))\n",
    "print('The state for the first agent looks like:', states[0])"
   ]
  },
  {
   "cell_type": "markdown",
   "metadata": {},
   "source": [
    "### 3. Take Random Actions in the Environment\n",
    "\n",
    "In the next code cell, you will learn how to use the Python API to control the agents and receive feedback from the environment.\n",
    "\n",
    "Once this cell is executed, you will watch the agents' performance, if they select actions at random with each time step.  A window should pop up that allows you to observe the agents.\n",
    "\n",
    "Of course, as part of the project, you'll have to change the code so that the agents are able to use their experiences to gradually choose better actions when interacting with the environment!"
   ]
  },
  {
   "cell_type": "code",
   "execution_count": 5,
   "metadata": {},
   "outputs": [],
   "source": [
    "def play_game(random_actions=True):\n",
    "    env_info = env.reset(train_mode=False)[brain_name]     # reset the environment    \n",
    "    states = env_info.vector_observations                  # get the current state (for each agent)\n",
    "    scores = np.zeros(num_agents)                          # initialize the score (for each agent)\n",
    "    \n",
    "    loops = 1\n",
    "    if random_actions:\n",
    "        loops = 6\n",
    "    \n",
    "    for _ in range(loops):\n",
    "        while True:\n",
    "            if random_actions:\n",
    "                actions = np.random.randn(num_agents, action_size) # select an action (for each agent)\n",
    "                actions = np.clip(actions, -1, 1)                  # all actions between -1 and 1\n",
    "            else:\n",
    "                actions = agent.act(states, add_noise=False)       # no noise when playing demo game ;)\n",
    "            env_info = env.step(actions)[brain_name]               # send all actions to tne environment\n",
    "            next_states = env_info.vector_observations             # get next state (for each agent)\n",
    "            rewards = env_info.rewards                             # get reward (for each agent)\n",
    "            dones = env_info.local_done                            # see if episode finished\n",
    "            scores += env_info.rewards                             # update the score (for each agent)\n",
    "            states = next_states                                   # roll over states to next time step\n",
    "\n",
    "            print('\\rReal time score (averaged over {} agents) for this episode: {}'.\n",
    "                  format(num_agents, np.mean(scores)), end=\"\")\n",
    "\n",
    "            if np.any(dones):                                      # exit loop if episode finished\n",
    "                break\n",
    "\n",
    "        print('\\rFinal Tennis Score (averaged over {} agents) for this episode: {}'.\n",
    "                  format(num_agents, np.mean(scores)), end=\"\")"
   ]
  },
  {
   "cell_type": "markdown",
   "metadata": {},
   "source": [
    "#### Play a random game\n",
    "Lets play a random game by selecting random actions for each state and see how it goes. Keep in mind that the score should be normally zero, or slightly positive if by \"accident\" the agents touche the ball using random actions."
   ]
  },
  {
   "cell_type": "code",
   "execution_count": 6,
   "metadata": {},
   "outputs": [
    {
     "name": "stdout",
     "output_type": "stream",
     "text": [
      "Final Tennis Score (averaged over 2 agents) for this episode: -0.029999999329447746"
     ]
    }
   ],
   "source": [
    "play_game(random_actions=True)"
   ]
  },
  {
   "cell_type": "markdown",
   "metadata": {},
   "source": [
    "### 4. Time to put some intelligence in action\n",
    "\n",
    "Now it's time to train our agent to solve the environment!  When training the environment, we set `train_mode=True`, so that the line for resetting the environment looks like the following:\n",
    "```python\n",
    "env_info = env.reset(train_mode=True)[brain_name]\n",
    "```\n",
    "\n",
    "We will be importing the model found at `model.py` and the agent found at `ddpg_agent.py` files."
   ]
  },
  {
   "cell_type": "code",
   "execution_count": 7,
   "metadata": {},
   "outputs": [
    {
     "name": "stdout",
     "output_type": "stream",
     "text": [
      "state_size 24\n",
      "action_size 2\n"
     ]
    }
   ],
   "source": [
    "from ddpg_agent import Agent\n",
    "from collections import namedtuple, deque\n",
    "import torch\n",
    "\n",
    "print(\"state_size\",state_size)\n",
    "print(\"action_size\",action_size)\n",
    "\n",
    "agent = Agent(state_size=state_size, action_size=action_size, random_seed=19)"
   ]
  },
  {
   "cell_type": "markdown",
   "metadata": {},
   "source": [
    "#### Play a game on untrained network\n",
    "\n",
    "We have an intelligent architecture, but despite the sophistication of the architecture, the neural networks weights are just random. Such a setup, but with random weights should give similar results to the \"random actions\".  Sad, but true.\n",
    "\n",
    "Lets play a game, but this time using our neural network that (for now) has untrained weights. So let's now watch an untrained agent."
   ]
  },
  {
   "cell_type": "code",
   "execution_count": 8,
   "metadata": {},
   "outputs": [
    {
     "name": "stdout",
     "output_type": "stream",
     "text": [
      "Final Tennis Score (averaged over 2 agents) for this episode: -0.004999999888241291"
     ]
    }
   ],
   "source": [
    "play_game(random_actions=False)"
   ]
  },
  {
   "cell_type": "markdown",
   "metadata": {},
   "source": [
    "### Training the Agent \n",
    "\n",
    "**We will use a  Deep Deterministic Policy Gradients (DDPG) algorithm**\n",
    "\n",
    "We will be working with full episode trajectories.\n",
    "\n",
    "At each episode we will be executing agent actions by calling `agent.act` and wee will be saving SARS results to the memory. \n",
    "\n",
    "We will be returning two lists containing scores.\n",
    "* `avg_episode_scores` will return the average actors score for each distinct episode\n",
    "* `avg_100deque_scores` will return the average actors score over the last 100 episodes\n",
    "\n",
    "The method will terminate after 4500 episodes, or when the `avg_100deque_scores` accumulates score of 0.5 or more for the last 100 episodes.\n",
    "\n",
    "If the method terminates by accumulating score of 0.5 or more at the `avg_100deque_scores` we will be saving a file containing the weights checkpoint for the `actor` and the `critic` neural networks."
   ]
  },
  {
   "cell_type": "code",
   "execution_count": 9,
   "metadata": {},
   "outputs": [],
   "source": [
    "NUM_UPDATES   = 1 # update the network 10 times\n",
    "UPDATE_EVERY  = 1 # after every 20 timesteps \n",
    "DESIRED_SCORE = 0.5\n",
    "\n",
    "def ddpg(n_episodes=4500, print_every=100, average_per_x_episodes=100):\n",
    "    print('Approach using {} agents: '.format(num_agents))\n",
    "    \n",
    "    scores_deque = deque(maxlen=average_per_x_episodes)      # populated by 100 episodes (for mean of 100 episodes)\n",
    "    avg_episode_scores = [] \n",
    "    avg_100deque_scores = []\n",
    "    \n",
    "    for i_episode in range(1, n_episodes+1):\n",
    "        env_info = env.reset(train_mode=True)[brain_name]    # reset the environment\n",
    "        \n",
    "        scores = np.zeros(num_agents)       \n",
    "        states = env_info.vector_observations                # get the current state (for each agent)\n",
    "        count = 0     \n",
    "              \n",
    "        while True:\n",
    "            count += 1\n",
    "            agent.reset()\n",
    "            actions = agent.act(states, add_noise=True)\n",
    "            env_info = env.step(actions)[brain_name]         # send all actions to the environment\n",
    "            next_states = env_info.vector_observations       # get next state (for each agent)\n",
    "            rewards = env_info.rewards                       # get reward (for each agent)\n",
    "            dones = env_info.local_done                      # see if episode finished\n",
    "\n",
    "            #agent.step(states, actions, rewards, next_states, dones)\n",
    "           \n",
    "            \n",
    "            # Store the SARS to the memory\n",
    "            for i in range(0, num_agents):\n",
    "                agent.add_sars_to_memory(states[i], actions[i], rewards[i], next_states[i], dones[i])\n",
    "\n",
    "            # After 20 steps, make 10 updates\n",
    "            agent.learn_by_memory(current_step=count, update_every_x_steps=UPDATE_EVERY, num_of_updates=NUM_UPDATES)\n",
    "            \n",
    "             \n",
    "            scores += rewards\n",
    "            states = next_states\n",
    "            if np.any(dones):\n",
    "                break\n",
    "\n",
    "        score = np.max(scores)             # the score of the episode will be the max agent's scores\n",
    "        scores_deque.append(score)         # add the score to the 100 episodes deque\n",
    "        \n",
    "        avg_episode_scores.append(score)    # add the score to the total episodes deque\n",
    "        avg_100deque_scores.append(np.mean(scores_deque))\n",
    "\n",
    "        print('\\rEpisode {}\\tAverage Score: {:.3f}\\tMax Score: {:.3f}'.format(i_episode, np.mean(scores_deque), np.max(scores_deque)), end=\"\")\n",
    "        if i_episode % print_every == 0:\n",
    "            print('\\rEpisode {}\\tAverage Score: {:.3f}\\tMax Score: {:.3f}'.format(i_episode, np.mean(scores_deque), np.max(scores_deque)))\n",
    "        if np.mean(scores_deque) >= DESIRED_SCORE:\n",
    "            print('\\n Environment solved in {:d} episodes!\\tAverage Score: {:.2f}'.format(i_episode-100, np.mean(scores_deque)))\n",
    "            torch.save(agent.actor_local.state_dict(), 'checkpoint_actor_agents.pth')\n",
    "            torch.save(agent.critic_local.state_dict(), 'checkpoint_critic_agent.pth')\n",
    "            break   \n",
    "    return avg_episode_scores, avg_100deque_scores"
   ]
  },
  {
   "cell_type": "code",
   "execution_count": 10,
   "metadata": {},
   "outputs": [
    {
     "name": "stdout",
     "output_type": "stream",
     "text": [
      "Approach using 2 agents: \n",
      "Episode 100\tAverage Score: 0.025\tMax Score: 0.300\n",
      "Episode 200\tAverage Score: 0.110\tMax Score: 1.100\n",
      "Episode 300\tAverage Score: 0.416\tMax Score: 2.600\n",
      "Episode 314\tAverage Score: 0.514\tMax Score: 2.600\n",
      " Environment solved in 214 episodes!\tAverage Score: 0.51\n"
     ]
    }
   ],
   "source": [
    "avg_episode_scores, avg_100deque_scores = ddpg()"
   ]
  },
  {
   "cell_type": "markdown",
   "metadata": {},
   "source": [
    "#### Plot the scores\n",
    "\n",
    "The bellow function takes a list and plots it"
   ]
  },
  {
   "cell_type": "code",
   "execution_count": 11,
   "metadata": {},
   "outputs": [],
   "source": [
    "import matplotlib.pyplot as plt\n",
    "%matplotlib inline\n",
    "\n",
    "def plot_list(list):\n",
    "    fig = plt.figure()\n",
    "    ax = fig.add_subplot(111)\n",
    "    plt.plot(np.arange(1, len(list)+1), list)\n",
    "    plt.ylabel('Score')\n",
    "    plt.xlabel('Episode #')\n",
    "    plt.show()"
   ]
  },
  {
   "cell_type": "markdown",
   "metadata": {},
   "source": [
    "#### List: Print the mean score per 100 episodes\n",
    "\n",
    "Print the deque results of the mean based on the last 100 episodes all the way from the first episode to the last, and then plot these results"
   ]
  },
  {
   "cell_type": "code",
   "execution_count": 12,
   "metadata": {},
   "outputs": [
    {
     "name": "stdout",
     "output_type": "stream",
     "text": [
      "[0.0, 0.0, 0.0, 0.0, 0.0, 0.0, 0.0, 0.0, 0.0, 0.0, 0.0, 0.0, 0.0, 0.0, 0.0, 0.0, 0.0, 0.0, 0.0, 0.0, 0.0, 0.0, 0.0, 0.0, 0.0036000000685453416, 0.003461538527447444, 0.003333333396801242, 0.0067857144001339164, 0.00655172424840516, 0.00966666682312886, 0.009354838861092445, 0.009062500146683306, 0.008787878930117145, 0.008529411902760757, 0.008285714419824737, 0.008055555685940716, 0.010540540707675187, 0.010263158057473208, 0.012564102760874309, 0.017250000266358256, 0.01682926855254464, 0.016428571682245957, 0.0160465118756821, 0.01568181842396205, 0.017555555825432143, 0.017173913307487965, 0.01680851089669035, 0.018541666950720053, 0.020204081941319972, 0.021800000332295896, 0.021372549345388132, 0.02288461573278675, 0.022452830530281336, 0.022037037372313165, 0.021636363965543835, 0.02125000032330198, 0.020877193300086156, 0.020517241691463982, 0.020169491832286626, 0.019833333635081846, 0.019508197018113294, 0.019193548679111466, 0.018888889176268426, 0.018593750282889232, 0.0183076925862294, 0.01803030330461986, 0.017761194300073297, 0.017500000266248688, 0.017246377073984215, 0.017000000258641585, 0.016760563635280435, 0.020694444757989712, 0.020410959213359715, 0.020135135440206207, 0.019866666967670123, 0.01960526345493762, 0.02064935096188799, 0.020384615693145838, 0.020126582583106015, 0.01987500030081719, 0.02086419784636409, 0.02060975640921331, 0.02036144609103002, 0.02011904792327966, 0.021058823847595384, 0.020813953802855903, 0.02160919573286484, 0.02136363669044592, 0.021123595828755518, 0.020888889208436012, 0.020659340975376275, 0.0204347829212961, 0.02021505407268001, 0.021063830109035717, 0.020842105581572182, 0.02062500031509747, 0.02144329929628323, 0.022244898298261116, 0.02292929328225478, 0.024700000379234553, 0.024700000379234553, 0.02660000041127205, 0.027500000428408385, 0.029500000458210707, 0.029500000458210707, 0.029500000458210707, 0.030400000475347043, 0.030400000475347043, 0.0314000004902482, 0.032400000505149365, 0.03340000052005052, 0.03440000053495169, 0.035400000549852845, 0.035400000549852845, 0.035400000549852845, 0.03640000056475401, 0.037400000579655174, 0.03840000059455633, 0.03840000059455633, 0.03840000059455633, 0.039400000609457496, 0.04040000062435865, 0.04130000064149499, 0.04230000065639615, 0.042400000654160976, 0.043300000671297315, 0.04430000068619847, 0.04430000068619847, 0.04520000070333481, 0.04520000070333481, 0.04620000071823597, 0.04720000073313713, 0.04820000074803829, 0.049200000762939455, 0.05020000077784061, 0.05120000079274178, 0.05120000079274178, 0.05120000079274178, 0.05210000080987811, 0.053100000824779274, 0.05410000083968043, 0.055100000854581596, 0.056100000869482754, 0.056100000869482754, 0.055100000854581596, 0.05700000088661909, 0.05700000088661909, 0.05600000087171793, 0.05500000085681677, 0.054900000859051945, 0.054900000859051945, 0.05390000084415078, 0.054900000859051945, 0.05580000087618828, 0.05580000087618828, 0.05680000089108944, 0.05680000089108944, 0.0578000009059906, 0.05870000092312694, 0.05870000092312694, 0.059700000938028096, 0.06170000096783042, 0.06270000098273158, 0.06270000098273158, 0.06370000099763275, 0.0647000010125339, 0.06560000102967024, 0.06760000105947256, 0.06960000108927489, 0.07060000110417604, 0.07150000112131238, 0.06950000109151006, 0.08050000125542284, 0.08450000131502748, 0.08750000135973096, 0.08850000137463213, 0.0934000014513731, 0.09430000146850943, 0.0953000014834106, 0.09730000151321291, 0.09730000151321291, 0.09820000153034926, 0.09920000154525041, 0.10020000156015157, 0.10020000156015157, 0.10120000157505274, 0.10230000158771872, 0.10320000160485505, 0.10420000161975622, 0.10510000163689255, 0.10510000163689255, 0.10710000166669488, 0.10810000168159604, 0.11010000171139836, 0.11110000172629952, 0.11200000174343586, 0.11200000174343586, 0.11100000172853469, 0.11110000172629952, 0.11010000171139836, 0.11100000172853469, 0.1091000016964972, 0.10920000169426203, 0.10820000167936086, 0.10920000169426203, 0.11120000172406436, 0.1133000017516315, 0.11430000176653266, 0.11430000176653266, 0.11430000176653266, 0.11430000176653266, 0.11430000176653266, 0.11420000176876784, 0.11510000178590417, 0.1160000018030405, 0.1160000018030405, 0.1160000018030405, 0.1160000018030405, 0.11690000182017685, 0.11780000183731318, 0.11780000183731318, 0.11770000183954835, 0.11770000183954835, 0.11770000183954835, 0.11770000183954835, 0.11880000185221434, 0.11880000185221434, 0.11880000185221434, 0.11890000184997916, 0.11890000184997916, 0.11990000186488033, 0.11990000186488033, 0.11990000186488033, 0.11990000186488033, 0.11990000186488033, 0.11990000186488033, 0.1198000018671155, 0.12080000188201666, 0.11990000186488033, 0.11780000183731318, 0.11780000183731318, 0.11780000183731318, 0.12180000189691782, 0.12280000191181899, 0.1278000019863248, 0.13190000204369426, 0.13890000214800238, 0.15780000243335962, 0.1768000027164817, 0.18090000277385115, 0.18190000278875232, 0.2079000031761825, 0.20890000319108368, 0.21800000332295894, 0.23900000363588333, 0.24300000369548796, 0.2469000037573278, 0.24680000375956296, 0.2488000037893653, 0.25980000395327807, 0.2657000040449202, 0.270700004119426, 0.2757000041939318, 0.2817000042833388, 0.2887000043876469, 0.28960000440478323, 0.2987000045366585, 0.300600004568696, 0.30260000459849834, 0.30460000462830067, 0.3217000048793852, 0.3407000051625073, 0.33070000501349567, 0.32970000499859453, 0.34270000519230964, 0.3677000055648387, 0.36280000548809765, 0.36190000547096135, 0.38190000576898453, 0.38190000576898453, 0.3809000057540834, 0.3810000057518482, 0.40600000612437726, 0.40600000612437726, 0.40600000612437726, 0.4100000061839819, 0.4090000061690807, 0.40910000616684555, 0.40910000616684555, 0.4102000061795115, 0.41220000620931385, 0.4112000061944127, 0.4142000062391162, 0.41320000622421504, 0.4142000062391162, 0.414300006236881, 0.414300006236881, 0.4153000062517822, 0.4153000062517822, 0.41630000626668334, 0.4164000062644482, 0.4174000062793493, 0.42040000632405283, 0.42040000632405283, 0.42040000632405283, 0.43240000650286675, 0.4304000064730644, 0.44940000675618647, 0.44940000675618647, 0.46040000692009925, 0.46140000693500044, 0.46340000696480277, 0.4885000073350966, 0.5136000077053905]\n"
     ]
    }
   ],
   "source": [
    "print(avg_100deque_scores)"
   ]
  },
  {
   "cell_type": "code",
   "execution_count": 13,
   "metadata": {},
   "outputs": [
    {
     "data": {
      "image/png": "[encoded data removed]",
      "text/plain": [
       "<Figure size 432x288 with 1 Axes>"
      ]
     },
     "metadata": {
      "needs_background": "light"
     },
     "output_type": "display_data"
    }
   ],
   "source": [
    "plot_list(avg_100deque_scores)"
   ]
  },
  {
   "cell_type": "markdown",
   "metadata": {},
   "source": [
    "#### List: Print the mean score per episodes\n",
    "\n",
    "Print the list with the results of the mean agents score per episode, all the way from the first episode to the last, and then plot these results"
   ]
  },
  {
   "cell_type": "code",
   "execution_count": 14,
   "metadata": {},
   "outputs": [
    {
     "name": "stdout",
     "output_type": "stream",
     "text": [
      "[0.0, 0.0, 0.0, 0.0, 0.0, 0.0, 0.0, 0.0, 0.0, 0.0, 0.0, 0.0, 0.0, 0.0, 0.0, 0.0, 0.0, 0.0, 0.0, 0.0, 0.0, 0.0, 0.0, 0.0, 0.09000000171363354, 0.0, 0.0, 0.10000000149011612, 0.0, 0.10000000149011612, 0.0, 0.0, 0.0, 0.0, 0.0, 0.0, 0.10000000149011612, 0.0, 0.10000000149011612, 0.20000000298023224, 0.0, 0.0, 0.0, 0.0, 0.10000000149011612, 0.0, 0.0, 0.10000000149011612, 0.10000000149011612, 0.10000000149011612, 0.0, 0.10000000149011612, 0.0, 0.0, 0.0, 0.0, 0.0, 0.0, 0.0, 0.0, 0.0, 0.0, 0.0, 0.0, 0.0, 0.0, 0.0, 0.0, 0.0, 0.0, 0.0, 0.30000000447034836, 0.0, 0.0, 0.0, 0.0, 0.10000000149011612, 0.0, 0.0, 0.0, 0.10000000149011612, 0.0, 0.0, 0.0, 0.10000000149011612, 0.0, 0.09000000171363354, 0.0, 0.0, 0.0, 0.0, 0.0, 0.0, 0.10000000149011612, 0.0, 0.0, 0.10000000149011612, 0.10000000149011612, 0.09000000171363354, 0.20000000298023224, 0.0, 0.19000000320374966, 0.09000000171363354, 0.20000000298023224, 0.0, 0.0, 0.09000000171363354, 0.0, 0.10000000149011612, 0.10000000149011612, 0.10000000149011612, 0.10000000149011612, 0.10000000149011612, 0.0, 0.0, 0.10000000149011612, 0.10000000149011612, 0.10000000149011612, 0.0, 0.0, 0.10000000149011612, 0.10000000149011612, 0.09000000171363354, 0.10000000149011612, 0.10000000149011612, 0.09000000171363354, 0.10000000149011612, 0.10000000149011612, 0.09000000171363354, 0.10000000149011612, 0.10000000149011612, 0.10000000149011612, 0.10000000149011612, 0.10000000149011612, 0.10000000149011612, 0.10000000149011612, 0.10000000149011612, 0.0, 0.19000000320374966, 0.30000000447034836, 0.10000000149011612, 0.10000000149011612, 0.10000000149011612, 0.0, 0.0, 0.19000000320374966, 0.0, 0.0, 0.0, 0.09000000171363354, 0.0, 0.0, 0.10000000149011612, 0.09000000171363354, 0.0, 0.10000000149011612, 0.0, 0.10000000149011612, 0.09000000171363354, 0.0, 0.10000000149011612, 0.20000000298023224, 0.10000000149011612, 0.0, 0.10000000149011612, 0.10000000149011612, 0.09000000171363354, 0.20000000298023224, 0.20000000298023224, 0.10000000149011612, 0.09000000171363354, 0.10000000149011612, 1.1000000163912773, 0.4000000059604645, 0.30000000447034836, 0.10000000149011612, 0.5900000091642141, 0.09000000171363354, 0.10000000149011612, 0.20000000298023224, 0.10000000149011612, 0.09000000171363354, 0.10000000149011612, 0.10000000149011612, 0.10000000149011612, 0.10000000149011612, 0.20000000298023224, 0.09000000171363354, 0.10000000149011612, 0.09000000171363354, 0.0, 0.20000000298023224, 0.10000000149011612, 0.30000000447034836, 0.10000000149011612, 0.09000000171363354, 0.10000000149011612, 0.0, 0.10000000149011612, 0.10000000149011612, 0.09000000171363354, 0.0, 0.10000000149011612, 0.10000000149011612, 0.10000000149011612, 0.20000000298023224, 0.30000000447034836, 0.10000000149011612, 0.10000000149011612, 0.10000000149011612, 0.10000000149011612, 0.10000000149011612, 0.09000000171363354, 0.09000000171363354, 0.09000000171363354, 0.10000000149011612, 0.10000000149011612, 0.10000000149011612, 0.09000000171363354, 0.09000000171363354, 0.10000000149011612, 0.09000000171363354, 0.09000000171363354, 0.10000000149011612, 0.10000000149011612, 0.20000000298023224, 0.10000000149011612, 0.10000000149011612, 0.10000000149011612, 0.10000000149011612, 0.20000000298023224, 0.10000000149011612, 0.10000000149011612, 0.10000000149011612, 0.10000000149011612, 0.10000000149011612, 0.09000000171363354, 0.10000000149011612, 0.10000000149011612, 0.09000000171363354, 0.10000000149011612, 0.10000000149011612, 0.5000000074505806, 0.10000000149011612, 0.5000000074505806, 0.6000000089406967, 0.7000000104308128, 1.8900000285357237, 1.9000000283122063, 0.5000000074505806, 0.10000000149011612, 2.600000038743019, 0.20000000298023224, 1.0000000149011612, 2.1000000312924385, 0.5000000074505806, 0.3900000061839819, 0.09000000171363354, 0.2900000046938658, 1.1000000163912773, 0.6900000106543303, 0.7000000104308128, 0.6000000089406967, 0.6000000089406967, 0.800000011920929, 0.19000000320374966, 1.0000000149011612, 0.3900000061839819, 0.4000000059604645, 0.30000000447034836, 1.8000000268220901, 2.0000000298023224, 0.10000000149011612, 0.30000000447034836, 1.600000023841858, 2.600000038743019, 0.10000000149011612, 0.0, 2.1000000312924385, 0.20000000298023224, 0.0, 0.10000000149011612, 2.600000038743019, 0.10000000149011612, 0.10000000149011612, 0.5000000074505806, 0.10000000149011612, 0.10000000149011612, 0.10000000149011612, 0.20000000298023224, 0.20000000298023224, 0.10000000149011612, 0.4000000059604645, 0.20000000298023224, 0.20000000298023224, 0.10000000149011612, 0.10000000149011612, 0.10000000149011612, 0.10000000149011612, 0.20000000298023224, 0.10000000149011612, 0.10000000149011612, 0.4000000059604645, 0.10000000149011612, 0.10000000149011612, 1.4000000208616257, 0.10000000149011612, 2.0000000298023224, 0.10000000149011612, 1.2000000178813934, 0.20000000298023224, 0.30000000447034836, 2.600000038743019, 2.600000038743019]\n"
     ]
    }
   ],
   "source": [
    "print(avg_episode_scores)"
   ]
  },
  {
   "cell_type": "code",
   "execution_count": 15,
   "metadata": {},
   "outputs": [
    {
     "data": {
      "image/png": "[encoded data removed]",
      "text/plain": [
       "<Figure size 432x288 with 1 Axes>"
      ]
     },
     "metadata": {
      "needs_background": "light"
     },
     "output_type": "display_data"
    }
   ],
   "source": [
    "plot_list(avg_episode_scores)"
   ]
  },
  {
   "cell_type": "markdown",
   "metadata": {},
   "source": [
    "#### Load the weights checkpoints for the neural networks\n",
    "\n",
    "Incase you want to use the resulted weights based on visualization of the data above, please do run the cell bellow to restore the weights configurations for the actor and critic neural networks."
   ]
  },
  {
   "cell_type": "code",
   "execution_count": 16,
   "metadata": {},
   "outputs": [],
   "source": [
    "agent.actor_local.load_state_dict(torch.load('checkpoint_actor_agents.pth'))\n",
    "agent.critic_local.load_state_dict(torch.load('checkpoint_critic_agent.pth'))"
   ]
  },
  {
   "cell_type": "markdown",
   "metadata": {},
   "source": [
    "#### Play a game on trained network - Watch a smart agent\n",
    "We will play again the game using the neural network, but this time based on the trained neural networks. Now, lets watch a \"smart agent\"!"
   ]
  },
  {
   "cell_type": "code",
   "execution_count": 17,
   "metadata": {},
   "outputs": [
    {
     "name": "stdout",
     "output_type": "stream",
     "text": [
      "Final Tennis Score (averaged over 2 agents) for this episode: 2.600000038743019"
     ]
    }
   ],
   "source": [
    "play_game(random_actions=False)"
   ]
  },
  {
   "cell_type": "markdown",
   "metadata": {},
   "source": [
    "#### Terminate the Unity environment\n",
    "\n",
    "Call the `env.close` to terminate the unity environment"
   ]
  },
  {
   "cell_type": "code",
   "execution_count": 18,
   "metadata": {},
   "outputs": [],
   "source": [
    "env.close()"
   ]
  }
 ],
 "metadata": {
  "kernelspec": {
   "display_name": "Python 3",
   "language": "python",
   "name": "python3"
  },
  "language_info": {
   "codemirror_mode": {
    "name": "ipython",
    "version": 3
   },
   "file_extension": ".py",
   "mimetype": "text/x-python",
   "name": "python",
   "nbconvert_exporter": "python",
   "pygments_lexer": "ipython3",
   "version": "3.6.7"
  }
 },
 "nbformat": 4,
 "nbformat_minor": 2
}
